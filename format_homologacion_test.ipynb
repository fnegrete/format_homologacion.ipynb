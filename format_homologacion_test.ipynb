{
 "cells": [
  {
   "cell_type": "code",
   "execution_count": 1,
   "metadata": {},
   "outputs": [],
   "source": [
    "import numpy as np \n",
    "import pandas as pd\n",
    "import datetime as dt\n",
    "import openpyxl\n",
    "import calendar\n",
    "import xlsxwriter"
   ]
  },
  {
   "cell_type": "code",
   "execution_count": 4,
   "metadata": {},
   "outputs": [],
   "source": [
    "raw_df=pd.read_excel('cd_nursingcalendar.xlsx', sheet_name=\"Hoja1\")\n",
    "#aw_df=raw_df.drop(['ID'], axis=1)\n",
    "#raw_df=raw_df.head(15)"
   ]
  },
  {
   "cell_type": "code",
   "execution_count": 5,
   "metadata": {},
   "outputs": [],
   "source": [
    "work_schedule_id=pd.read_excel('cd_nursingcalendar.xlsx', sheet_name=\"work_schedules\")\n",
    "#work_schedule_id=work_schedule_id.rename(columns=work_schedule_id.iloc[0])\n",
    "#work_schedule_id=work_schedule_id.drop([0])\n",
    "work_schedule_id=work_schedule_id.drop(['entrance_time','departure_time','hospitalid','floor_id'],axis=1)\n",
    "#work_schedule_id=work_schedule_id[['name','WORK_SCHEDULEID']]"
   ]
  },
  {
   "cell_type": "code",
   "execution_count": 6,
   "metadata": {},
   "outputs": [],
   "source": [
    "nurses=pd.read_excel('cd_nursingcalendar.xlsx', sheet_name=\"nurses\")\n",
    "nurses=nurses[['id','name']]"
   ]
  },
  {
   "cell_type": "code",
   "execution_count": 7,
   "metadata": {},
   "outputs": [],
   "source": [
    "#DUPLICAR LAS PRIMERAS DOS SEMANAS PARA HACER 4 SEMANAS EN TOTAL\n",
    "weeks_4=raw_df.iloc[:,4:18]\n",
    "#DUPLICAR LA PRIMERA SEMANA PARA HACER 5 SEMANAS EN TOTAL\n",
    "week_1=raw_df.iloc[:,4:11]\n",
    "raw_df=raw_df.join(weeks_4,how='left',lsuffix='_left', rsuffix='_right')\n",
    "raw_df=raw_df.join(week_1,how='left',lsuffix='_left', rsuffix='_right')"
   ]
  },
  {
   "cell_type": "code",
   "execution_count": 8,
   "metadata": {},
   "outputs": [],
   "source": [
    "dias_semana= { 'Domingo': '0',\n",
    "'Lunes':'1',\n",
    "'Martes':'2', \n",
    "'Miercoles':'3',\n",
    "'Jueves':'4',\n",
    "'Viernes':'5',\n",
    "'Sabado':'6'}\n",
    "\n",
    "onlyDays=list(dias_semana.keys())\n",
    "\n",
    "ind=[]\n",
    "for i in range(0,5):\n",
    "    for j in range(len(onlyDays)):\n",
    "        a=str(onlyDays[j])+\"{}\".format(i)\n",
    "        ind.append(a)\n",
    "index=ind.copy()\n",
    "index.insert(0,\"dias descanso\")\n",
    "index.insert(0,\"floor_name\")\n",
    "index.insert(0,\"schedule_name\")\n",
    "index.insert(0,\"name\")\n",
    "\n",
    "raw_df.columns=index"
   ]
  },
  {
   "cell_type": "code",
   "execution_count": 9,
   "metadata": {},
   "outputs": [],
   "source": [
    "left_join= pd.merge(raw_df, work_schedule_id, on =['schedule_name','floor_name'], how ='left')\n",
    "join_= pd.merge(left_join, nurses, on ='name',how ='left')"
   ]
  },
  {
   "cell_type": "code",
   "execution_count": 10,
   "metadata": {},
   "outputs": [],
   "source": [
    "#join_=pd.melt(join_, id_vars =['name','WORK_SCHEDULEID','id'], value_vars =ind,var_name=\"Days\",value_name='Work')\n",
    "join_=pd.melt(join_, id_vars =['name','id_x','id_y'], value_vars =ind,var_name=\"Days\",value_name='Work')\n",
    "#join_=join_.sort_values(['name','Days'],ascending = [True,onlyDays])\n",
    "join_=join_.reset_index(drop=True)"
   ]
  },
  {
   "cell_type": "code",
   "execution_count": null,
   "metadata": {},
   "outputs": [],
   "source": [
    "dias_semana= {\n",
    "'Domingo': '0',\n",
    "'Lunes':'1',\n",
    "'Martes':'2', \n",
    "'Miercoles':'3',\n",
    "'Jueves':'4',\n",
    "'Viernes':'5',\n",
    "'Sabado':'6',\n",
    "}\n",
    "\n",
    "onlyDays=list(dias_semana.keys())\n",
    "\n",
    "ind=[]\n",
    "for i in range(0,5):\n",
    "    for j in range(len(onlyDays)):\n",
    "        a=str(onlyDays[j])+\"{}\".format(i)\n",
    "        ind.append(a)\n",
    "\n",
    "##############################################################\n",
    "\n",
    "df_list = []\n",
    "\n",
    "for dia in ind:\n",
    "   df_list.append(join_[join_['Days']==dia ])\n",
    "\n",
    "ordered_df = pd.concat(df_list)\n",
    "ordered_df=ordered_df.reset_index(drop=True)\n",
    "\n",
    "\n",
    "#############################################################\n",
    "\n",
    "enfermeras=list(set(join_.name))\n",
    "data=pd.DataFrame()\n",
    "for nurse in enfermeras:\n",
    "    df_y=ordered_df[ordered_df['name'] == nurse].reset_index(drop=True)\n",
    "    date_today = pd.to_datetime('now').month\n",
    "    hoy=dt.date.today()\n",
    "    mes=hoy.month\n",
    "    anio=hoy.year\n",
    "    ultimoDia_mes=calendar.monthrange(anio, mes)[1]\n",
    "    primerDia_mes=calendar.monthrange(anio, mes)[0]\n",
    "\n",
    "    if primerDia_mes==0:\n",
    "        day=\"Lunes0\"\n",
    "        firstIndex=df_y.index[df_y['Days'] == day][0]\n",
    "    elif primerDia_mes==1:\n",
    "        day=\"Martes0\"\n",
    "        firstIndex=df_y.index[df_y['Days'] == day][0]\n",
    "    elif primerDia_mes==2:\n",
    "        day=\"Miercoles0\"\n",
    "        firstIndex=df_y.index[df_y['Days'] == day][0]\n",
    "    elif primerDia_mes==3:\n",
    "        day=\"Jueves0\"\n",
    "        firstIndex=df_y.index[df_y['Days'] == day][0]\n",
    "    elif primerDia_mes==4:\n",
    "        day=\"Viernes0\"\n",
    "        firstIndex=df_y.index[df_y['Days'] == day][0]\n",
    "    elif primerDia_mes==5:\n",
    "        day=\"Sabado0\"\n",
    "        firstIndex=df_y.index[df_y['Days'] == day][0]\n",
    "    else:\n",
    "        day=\"Domingo0\"\n",
    "        firstIndex=df_y.index[df_y['Days'] == day][0]\n",
    "\n",
    "    fechas=list(pd.period_range(start=f'{mes}'+'/1/'+f'{anio}', end=f'{mes}/'+f'{ultimoDia_mes}'+'/'+f'{anio}', freq='D'))\n",
    "    df_y=df_y.iloc[firstIndex:,:]\n",
    "    df_y=df_y.iloc[0:len(fechas),:]\n",
    "    r,c =df_y.shape\n",
    "    for i in range(r):\n",
    "        df_y.iloc[i,3]=fechas[i]\n",
    "\n",
    "    data=data.append(df_y, ignore_index = True)    "
   ]
  },
  {
   "cell_type": "code",
   "execution_count": 13,
   "metadata": {},
   "outputs": [],
   "source": [
    "data=data[data['Work'].notna()].reset_index(drop=True)\n",
    "data['Days'] = data['Days'].astype(str)\n",
    "data['Days']= pd.to_datetime(data['Days'],format='%Y-%m-%d').dt.date"
   ]
  },
  {
   "cell_type": "code",
   "execution_count": 14,
   "metadata": {},
   "outputs": [],
   "source": [
    "descanso=raw_df[['name','dias descanso']]\n",
    "descanso=descanso.rename({'dias descanso':'dias_descanso'}, axis=1)\n",
    "auxiliar=descanso[descanso['dias_descanso'].str.contains(\",\", na=False)]\n",
    "auxiliar['day']=auxiliar.dias_descanso.str.split(\",\")\n",
    "#auxiliar.loc[:,('day')]=auxiliar.dias_descanso.str.split(\",\")\n",
    "descanso=descanso.rename({'dias_descanso':'day'}, axis=1)\n",
    "descanso.update(auxiliar)\n",
    "descanso = descanso.dropna()\n",
    "enfermeras=list(set(descanso.name))"
   ]
  },
  {
   "cell_type": "code",
   "execution_count": null,
   "metadata": {
    "scrolled": true
   },
   "outputs": [],
   "source": [
    "dataframe=pd.DataFrame()\n",
    "for nurse in enfermeras:\n",
    "    DD=[]\n",
    "    df_y=data[data['name'] == nurse]\n",
    "    df_y['Days']=pd.to_datetime(df_y.Days)\n",
    "    df_x=descanso[descanso['name'] == nurse]\n",
    "    #lista donde guardará los dias formato fecha que una enfermera no trabaja\n",
    "    mes= pd.to_datetime('now').month\n",
    "    anio= pd.to_datetime('now').year\n",
    "    if type(df_x.iloc[0,1])==list:\n",
    "        for j in range(len(df_x.iloc[0,1])):\n",
    "            dia=df_x.iloc[0,1][j]\n",
    "            value=f'{anio}-'+f'{mes}'+f'-{dia}'\n",
    "            DD.append(value)\n",
    "        DD=pd.to_datetime(DD, errors='coerce',format='%Y-%m-%d')\n",
    "        #print(DD)\n",
    "        df_y=df_y[~df_y.Days.isin(DD)]\n",
    "        dataframe=dataframe.append(df_y, ignore_index = True)\n",
    "    else:\n",
    "        dia=df_x.iloc[0,1]\n",
    "        value=f'{anio}-'+f'{mes}'+f'-{dia}'\n",
    "        DD.append(value)\n",
    "        DD=pd.to_datetime(DD,format='%Y-%m-%d')\n",
    "        #print(DD)\n",
    "        df_y=df_y[~df_y.Days.isin(DD)]\n",
    "        dataframe=dataframe.append(df_y, ignore_index = True)\n"
   ]
  },
  {
   "cell_type": "code",
   "execution_count": 16,
   "metadata": {},
   "outputs": [],
   "source": [
    "descanso=raw_df[['name','dias descanso']]\n",
    "descanso=descanso.rename({'dias descanso':'dias_descanso'}, axis=1)\n",
    "auxiliar=descanso[descanso['dias_descanso'].str.contains(\",\", na=False)]\n",
    "auxiliar['day']=auxiliar.dias_descanso.str.split(\",\")\n",
    "descanso=descanso.rename({'dias_descanso':'day'}, axis=1)\n",
    "descanso.update(auxiliar)\n",
    "descanso = pd.DataFrame(descanso[descanso.day.isna()]['name'])\n",
    "large=len(descanso.name)\n",
    "\n",
    "\n",
    "if (large)>1:\n",
    "    for i in range(large):\n",
    "        paste_df= data[data['name'] == descanso.iloc[i,0]]\n",
    "        paste_df['Days']=pd.to_datetime(paste_df['Days'], errors='coerce',format='%Y-%m-%d')\n",
    "        dataframe=dataframe.append(paste_df, ignore_index = True)\n",
    "        \n",
    "elif large==1:\n",
    "    paste_df=data[data['name'] == descanso.iloc[0,0]]\n",
    "    paste_df['Days']=pd.to_datetime(paste_df['Days'], errors='coerce',format='%Y-%m-%d')\n",
    "    dataframe=dataframe.append(paste_df, ignore_index = True)\n",
    "else:\n",
    "    pass"
   ]
  },
  {
   "cell_type": "code",
   "execution_count": 17,
   "metadata": {},
   "outputs": [],
   "source": [
    "dataframe=dataframe.rename({'Days':'fecha','id_x':'workscheduleid','id_y':'nurseid'}, axis=1)\n",
    "dataframe=dataframe[['fecha','nurseid','workscheduleid']] \n",
    "dataframe['fecha'] = dataframe['fecha'].dt.date\n"
   ]
  },
  {
   "cell_type": "code",
   "execution_count": 18,
   "metadata": {},
   "outputs": [],
   "source": [
    "writer = pd.ExcelWriter('formato_homologacion_test.xlsx', engine='xlsxwriter')\n",
    "dataframe.to_excel(writer, index_label=False, sheet_name='data', na_rep='', index=False)\n",
    "writer.save()"
   ]
  },
  {
   "cell_type": "code",
   "execution_count": 19,
   "metadata": {},
   "outputs": [],
   "source": [
    "df_inicial = pd.read_excel(\"./formato_homologacion_test.xlsx\" , sheet_name='data', engine='openpyxl')"
   ]
  }
 ],
 "metadata": {
  "interpreter": {
   "hash": "bcb0cb33d6e2bbd83851c871471ef393d6bca2f98ec3c408bf0401b310da2055"
  },
  "kernelspec": {
   "display_name": "Python 3",
   "language": "python",
   "name": "python3"
  },
  "language_info": {
   "codemirror_mode": {
    "name": "ipython",
    "version": 3
   },
   "file_extension": ".py",
   "mimetype": "text/x-python",
   "name": "python",
   "nbconvert_exporter": "python",
   "pygments_lexer": "ipython3",
   "version": "3.10.2"
  }
 },
 "nbformat": 4,
 "nbformat_minor": 2
}
